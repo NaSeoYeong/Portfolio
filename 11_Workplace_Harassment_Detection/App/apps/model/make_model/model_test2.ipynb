{
 "cells": [
  {
   "cell_type": "code",
   "execution_count": 16,
   "metadata": {},
   "outputs": [],
   "source": [
    "from konlpy.tag import Kkma\n",
    "import pandas as pd\n",
    "import pickle\n",
    "from tensorflow.keras.preprocessing.sequence import pad_sequences\n",
    "\n",
    "def make_test(text):\n",
    "    kkma = Kkma()\n",
    "\n",
    "    with open('./new_model/tokenizer.pkl', 'rb') as tokenizer_model:\n",
    "        tokenizer = pickle.load(tokenizer_model)\n",
    "\n",
    "    result = []\n",
    "    one = kkma.pos(text)\n",
    "\n",
    "    for t, v in one:\n",
    "        if v in ['NNG','NNP','NP', 'VV','VA', 'VCP','VCN', 'IC', 'MAG']:\n",
    "            result.append(t)\n",
    "\n",
    "    pre_data = pd.Series(', '.join(result))\n",
    "    pre_data = pre_data.values\n",
    "\n",
    "    pre = tokenizer.texts_to_sequences(pre_data)\n",
    "    pre = pad_sequences(pre, maxlen=300)\n",
    "\n",
    "    return pre"
   ]
  },
  {
   "cell_type": "code",
   "execution_count": 2,
   "metadata": {},
   "outputs": [],
   "source": [
    "from keras.models import load_model\n",
    "\n",
    "model = load_model('./new_model/best_model.hdf5')"
   ]
  },
  {
   "cell_type": "markdown",
   "metadata": {},
   "source": [
    "- 0이 괴롭힘, 1이 안괴롭힘"
   ]
  },
  {
   "cell_type": "code",
   "execution_count": 24,
   "metadata": {},
   "outputs": [],
   "source": [
    "def predict():\n",
    "    Q = input()\n",
    "    A = input()\n",
    "\n",
    "    data = Q + ' ' + A\n",
    "\n",
    "    pre_data = make_test(data)\n",
    "    \n",
    "    result = model.predict(pre_data)[0][0]\n",
    "\n",
    "    print(Q)\n",
    "    print(A)\n",
    "\n",
    "    if result >= 0.5:\n",
    "        print(f\"정상 대화입니다. 수치 = {result}\")\n",
    "    else:\n",
    "        print(f\"직장 내 괴롭힘 대화입니다. 수치 = {result}\")\n"
   ]
  },
  {
   "cell_type": "code",
   "execution_count": 26,
   "metadata": {},
   "outputs": [
    {
     "name": "stdout",
     "output_type": "stream",
     "text": [
      "1/1 [==============================] - 0s 31ms/step\n",
      "서영님, 오늘 남아서 청소해야 하는 것 몰랐어요?\n",
      "네? 제가 청소를 해야 하나요?\n",
      "직장 내 괴롭힘 대화입니다.\n"
     ]
    }
   ],
   "source": [
    "predict()"
   ]
  },
  {
   "cell_type": "code",
   "execution_count": 27,
   "metadata": {},
   "outputs": [
    {
     "name": "stdout",
     "output_type": "stream",
     "text": [
      "1/1 [==============================] - 0s 35ms/step\n",
      "서영님, 같이 청소하자\n",
      "네, 좋아요. 드디어 자리가 깔끔해지겠네요.\n",
      "정상 대화입니다.\n"
     ]
    }
   ],
   "source": [
    "predict()"
   ]
  },
  {
   "cell_type": "code",
   "execution_count": 28,
   "metadata": {},
   "outputs": [
    {
     "name": "stdout",
     "output_type": "stream",
     "text": [
      "1/1 [==============================] - 0s 27ms/step\n",
      "부장님, 요즘 날씨 진짜 좋지 않아요?\n",
      "그러게, 회사에서 일하기 딱 싫은 날씨네.\n",
      "정상 대화입니다.\n"
     ]
    }
   ],
   "source": [
    "predict()"
   ]
  },
  {
   "cell_type": "code",
   "execution_count": 29,
   "metadata": {},
   "outputs": [
    {
     "name": "stdout",
     "output_type": "stream",
     "text": [
      "1/1 [==============================] - 0s 34ms/step\n",
      "서영님, 일 이런 식으로 할거야? 요즘 젊은 사람들은 진짜\n",
      " 죄송합니다. 어쩐 일이신지...\n",
      "직장 내 괴롭힘 대화입니다.\n"
     ]
    }
   ],
   "source": [
    "predict()"
   ]
  },
  {
   "cell_type": "code",
   "execution_count": 33,
   "metadata": {},
   "outputs": [
    {
     "name": "stdout",
     "output_type": "stream",
     "text": [
      "1/1 [==============================] - 0s 43ms/step\n",
      "머리가 나쁘면 몸이라도 부지런해야지, 서영씨 진짜 너무하는거 아냐?\n",
      "제가 일을 안 한 것도 아닌데, 정말 너무하십니다.\n",
      "직장 내 괴롭힘 대화입니다.\n"
     ]
    }
   ],
   "source": [
    "predict()"
   ]
  },
  {
   "cell_type": "code",
   "execution_count": 34,
   "metadata": {},
   "outputs": [
    {
     "name": "stdout",
     "output_type": "stream",
     "text": [
      "1/1 [==============================] - 0s 43ms/step\n",
      "오늘 진짜 일하기 싫다, 그쵸? \n",
      "회사가 무너졌으면 좋겠어요.. 도망가고싶어요\n",
      "정상 대화입니다.\n"
     ]
    }
   ],
   "source": [
    "predict()"
   ]
  },
  {
   "cell_type": "code",
   "execution_count": 35,
   "metadata": {},
   "outputs": [
    {
     "name": "stdout",
     "output_type": "stream",
     "text": [
      "1/1 [==============================] - 0s 37ms/step\n",
      "제가 왜 이런 수모를 당해야하는지 모르겠습니다.\n",
      "뭐야? 서영님 진짜 웃긴 사람이다. 뭘 잘했다고 큰소리지?\n",
      "직장 내 괴롭힘 대화입니다.\n"
     ]
    }
   ],
   "source": [
    "predict()"
   ]
  }
 ],
 "metadata": {
  "kernelspec": {
   "display_name": "web",
   "language": "python",
   "name": "python3"
  },
  "language_info": {
   "codemirror_mode": {
    "name": "ipython",
    "version": 3
   },
   "file_extension": ".py",
   "mimetype": "text/x-python",
   "name": "python",
   "nbconvert_exporter": "python",
   "pygments_lexer": "ipython3",
   "version": "3.9.18"
  }
 },
 "nbformat": 4,
 "nbformat_minor": 2
}
